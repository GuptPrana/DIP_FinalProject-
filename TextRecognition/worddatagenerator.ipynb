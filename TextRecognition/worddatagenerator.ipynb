{
  "nbformat": 4,
  "nbformat_minor": 0,
  "metadata": {
    "colab": {
      "name": "worddatagenerator.ipynb",
      "provenance": [],
      "collapsed_sections": []
    },
    "kernelspec": {
      "name": "python3",
      "display_name": "Python 3"
    },
    "language_info": {
      "name": "python"
    }
  },
  "cells": [
    {
      "cell_type": "markdown",
      "source": [
        "## Dataset Generator\n",
        "Generate word images using the trdg package\n",
        "\n",
        "Files saved to Google Cloud as Google Colab is the environment used for model training"
      ],
      "metadata": {
        "id": "SIiRdPocxy7w"
      }
    },
    {
      "cell_type": "code",
      "execution_count": 1,
      "metadata": {
        "id": "v-rVwuHZvlGa"
      },
      "outputs": [],
      "source": [
        "%load_ext autoreload\n",
        "%autoreload 2"
      ]
    },
    {
      "cell_type": "code",
      "source": [
        "from google.colab import drive\n",
        "drive.mount(\"/content/drive/\")"
      ],
      "metadata": {
        "colab": {
          "base_uri": "https://localhost:8080/"
        },
        "id": "XsKVxmkbvv9G",
        "outputId": "3c62c8c6-de7d-4901-d725-30f0265196e0"
      },
      "execution_count": 2,
      "outputs": [
        {
          "output_type": "stream",
          "name": "stdout",
          "text": [
            "Drive already mounted at /content/drive/; to attempt to forcibly remount, call drive.mount(\"/content/drive/\", force_remount=True).\n"
          ]
        }
      ]
    },
    {
      "cell_type": "code",
      "source": [
        "%cd \"./drive/MyDrive/ELEC4130\""
      ],
      "metadata": {
        "id": "DPgIu-Kovxvi"
      },
      "execution_count": null,
      "outputs": []
    },
    {
      "cell_type": "code",
      "source": [
        "!pip install trdg"
      ],
      "metadata": {
        "colab": {
          "base_uri": "https://localhost:8080/"
        },
        "id": "aDvd1I2Kv1Yp",
        "outputId": "6e5898b1-1703-4540-be56-d4330bd6abd5"
      },
      "execution_count": 4,
      "outputs": [
        {
          "output_type": "stream",
          "name": "stdout",
          "text": [
            "Looking in indexes: https://pypi.org/simple, https://us-python.pkg.dev/colab-wheels/public/simple/\n",
            "Requirement already satisfied: trdg in /usr/local/lib/python3.7/dist-packages (1.7.0)\n",
            "Requirement already satisfied: numpy<1.17,>=1.16.4 in /usr/local/lib/python3.7/dist-packages (from trdg) (1.16.6)\n",
            "Requirement already satisfied: requests>=2.20.0 in /usr/local/lib/python3.7/dist-packages (from trdg) (2.23.0)\n",
            "Requirement already satisfied: tqdm>=4.23.0 in /usr/local/lib/python3.7/dist-packages (from trdg) (4.64.0)\n",
            "Requirement already satisfied: diffimg==0.2.3 in /usr/local/lib/python3.7/dist-packages (from trdg) (0.2.3)\n",
            "Requirement already satisfied: beautifulsoup4>=4.6.0 in /usr/local/lib/python3.7/dist-packages (from trdg) (4.6.3)\n",
            "Requirement already satisfied: pillow>=7.0.0 in /usr/local/lib/python3.7/dist-packages (from trdg) (7.1.2)\n",
            "Requirement already satisfied: opencv-python>=4.2.0.32 in /usr/local/lib/python3.7/dist-packages (from trdg) (4.5.5.64)\n",
            "Requirement already satisfied: chardet<4,>=3.0.2 in /usr/local/lib/python3.7/dist-packages (from requests>=2.20.0->trdg) (3.0.4)\n",
            "Requirement already satisfied: idna<3,>=2.5 in /usr/local/lib/python3.7/dist-packages (from requests>=2.20.0->trdg) (2.10)\n",
            "Requirement already satisfied: certifi>=2017.4.17 in /usr/local/lib/python3.7/dist-packages (from requests>=2.20.0->trdg) (2022.5.18.1)\n",
            "Requirement already satisfied: urllib3!=1.25.0,!=1.25.1,<1.26,>=1.21.1 in /usr/local/lib/python3.7/dist-packages (from requests>=2.20.0->trdg) (1.24.3)\n"
          ]
        }
      ]
    },
    {
      "cell_type": "code",
      "source": [
        "# Can fix the input string data but we can use the random ones in the cell below\n",
        "from trdg.generators import (\n",
        "    GeneratorFromDict,\n",
        "    GeneratorFromRandom,\n",
        "    GeneratorFromStrings,\n",
        "    GeneratorFromWikipedia,\n",
        ")\n",
        "\n",
        "# The generators use the same arguments as the CLI, only as parameters\n",
        "generator = GeneratorFromStrings(\n",
        "    ['Test1', 'Test2', 'Test3'],\n",
        "    blur=2,\n",
        "    random_blur=True\n",
        ")\n",
        "\n",
        "for img, lbl in generator:\n",
        "    print(lbl)\n",
        "    break"
      ],
      "metadata": {
        "colab": {
          "base_uri": "https://localhost:8080/"
        },
        "id": "HjQTDLtqv7zA",
        "outputId": "3a6e4daa-d1cd-4d49-d811-d59df57c3436"
      },
      "execution_count": 26,
      "outputs": [
        {
          "output_type": "stream",
          "name": "stdout",
          "text": [
            "Test1\n"
          ]
        }
      ]
    },
    {
      "cell_type": "markdown",
      "source": [
        "## Data Format\n",
        "Images stored in /data folder\n",
        "Labels stored in csv file in /data folder"
      ],
      "metadata": {
        "id": "QnhpTyvayu3A"
      }
    },
    {
      "cell_type": "code",
      "source": [
        "# cd directly into the data folder\n",
        "%cd \"./drive/MyDrive/ELEC4130/data\""
      ],
      "metadata": {
        "id": "FkzSt6Vny0n_"
      },
      "execution_count": null,
      "outputs": []
    },
    {
      "cell_type": "code",
      "source": [
        "from PIL import Image, ImageOps\n",
        "from trdg.generators import (\n",
        "    GeneratorFromDict\n",
        ")\n",
        "import csv\n",
        "\n",
        "generator_from_dicts = GeneratorFromDict()\n",
        "label_list = []\n",
        "\n",
        "count = 0\n",
        "for img, lbl in generator_from_dicts:\n",
        "    img = ImageOps.grayscale(img) \n",
        "    im = img.resize((64, 16))   \n",
        "    im.save(\"{}.png\".format(count))\n",
        "    label_list.append(lbl)\n",
        "    count += 1\n",
        "    if count%100 == 0:\n",
        "        print(count)\n",
        "    if count == 500000:\n",
        "        break\n",
        "\n",
        "with open('labels.csv', 'w', encoding='UTF8') as f:\n",
        "    writer = csv.writer(f)\n",
        "    # write the data\n",
        "    writer.writerow(label_list)\n"
      ],
      "metadata": {
        "id": "xvHyXePkoOeO"
      },
      "execution_count": null,
      "outputs": []
    },
    {
      "cell_type": "code",
      "source": [
        ""
      ],
      "metadata": {
        "id": "-CfKfDxfuix1"
      },
      "execution_count": null,
      "outputs": []
    }
  ]
}